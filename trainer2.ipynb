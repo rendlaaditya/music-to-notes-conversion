{
 "cells": [
  {
   "cell_type": "code",
   "execution_count": 1,
   "metadata": {},
   "outputs": [],
   "source": [
    "import numpy as np\n",
    "import cv2\n",
    "import matplotlib.pyplot as plt\n",
    "import os\n",
    "import shutil\n",
    "from sklearn.model_selection import train_test_split\n",
    "from sklearn.metrics import f1_score, precision_score,recall_score"
   ]
  },
  {
   "cell_type": "code",
   "execution_count": 2,
   "metadata": {},
   "outputs": [],
   "source": [
    "from tensorflow.keras.models import Sequential\n",
    "from tensorflow.keras.layers import Conv2D, Dropout, Dense, MaxPool2D, Flatten\n",
    "from tensorflow.keras.optimizers import SGD\n",
    "from tensorflow.keras.callbacks import Callback\n",
    "from tensorflow.nn import sigmoid_cross_entropy_with_logits\n",
    "from tensorflow.metrics import precision\n",
    "import tensorflow.keras.backend as K\n",
    "import tensorflow as tf"
   ]
  },
  {
   "cell_type": "code",
   "execution_count": 28,
   "metadata": {},
   "outputs": [],
   "source": [
    "from tensorflow.keras.metrics import binary_accuracy,mae"
   ]
  },
  {
   "cell_type": "code",
   "execution_count": 3,
   "metadata": {
    "scrolled": true
   },
   "outputs": [],
   "source": [
    "# X=[]\n",
    "# img_paths = os.listdir(\"cqts2\")\n",
    "# for i in range(len(img_paths)):\n",
    "#     img = cv2.imread(\"cqts2/\"+img_paths[i],0)\n",
    "#     suff = img[4:235,35:-4]\n",
    "#     if(suff.shape==(231,371)):\n",
    "#         for j in range(suff.shape[1]-6):\n",
    "#             suff2 = suff[:,j:j+7]\n",
    "#             suff2 = suff2.reshape(7,231,1)\n",
    "# #             if(i==0 and j==0):\n",
    "# #                 X = suff2\n",
    "# #             else:\n",
    "# #                 X = np.concatenate((X,suff2),axis=0)\n",
    "#             X.append(suff2)\n",
    "#     if(i%10==0):\n",
    "#         print(i)"
   ]
  },
  {
   "cell_type": "code",
   "execution_count": 4,
   "metadata": {
    "scrolled": true
   },
   "outputs": [
    {
     "name": "stdout",
     "output_type": "stream",
     "text": [
      "0\n",
      "10\n",
      "20\n",
      "30\n",
      "40\n",
      "50\n",
      "60\n",
      "70\n",
      "80\n",
      "90\n",
      "100\n",
      "110\n",
      "120\n",
      "130\n",
      "140\n",
      "150\n",
      "160\n",
      "170\n",
      "180\n",
      "190\n",
      "200\n",
      "210\n"
     ]
    }
   ],
   "source": [
    "X=[]\n",
    "img_paths = os.listdir(\"cqts2\")\n",
    "for i in range(len(img_paths)):\n",
    "    img = cv2.imread(\"cqts2/\"+img_paths[i],0)\n",
    "    suff = img[4:235,35:-4]\n",
    "    if(suff.shape==(231,371)):\n",
    "        for j in range(suff.shape[1]//7):\n",
    "            suff2 = suff[:,j*7:(j+1)*7]\n",
    "            suff2 = suff2.reshape(7,231,1)\n",
    "#             if(i==0 and j==0):\n",
    "#                 X = suff2\n",
    "#             else:\n",
    "#                 X = np.concatenate((X,suff2),axis=0)\n",
    "            X.append(suff2)\n",
    "    if(i%10==0):\n",
    "        print(i)"
   ]
  },
  {
   "cell_type": "code",
   "execution_count": 15,
   "metadata": {},
   "outputs": [],
   "source": [
    "X = np.array(X)"
   ]
  },
  {
   "cell_type": "code",
   "execution_count": 16,
   "metadata": {
    "scrolled": true
   },
   "outputs": [
    {
     "data": {
      "text/plain": [
       "(11395, 7, 231, 1)"
      ]
     },
     "execution_count": 16,
     "metadata": {},
     "output_type": "execute_result"
    }
   ],
   "source": [
    "X.shape"
   ]
  },
  {
   "cell_type": "code",
   "execution_count": 7,
   "metadata": {},
   "outputs": [],
   "source": [
    "# label_paths = os.listdir(\"labels2\")\n",
    "# count=0\n",
    "# for i in range(len(label_paths)):\n",
    "#     img = cv2.imread(\"cqts2/\"+img_paths[i],0)\n",
    "#     suff = img[4:235,35:-4]\n",
    "#     if(suff.shape==(231,371)):\n",
    "#         count+=1\n",
    "#         lbl = np.load(\"labels2/\"+label_paths[i])\n",
    "#         lbl2 = lbl[:,:-4]\n",
    "#         for j in range(lbl2.shape[1]-6):\n",
    "#             chunk_sum = np.sum(lbl2[:,j:j+7],axis=1)\n",
    "#             for k in range(len(chunk_sum)):\n",
    "#                 if(chunk_sum[k]>3):\n",
    "#                     chunk_sum[k]=1\n",
    "#                 else:\n",
    "#                     chunk_sum[k]=0\n",
    "#             if(i==0 and j==0):\n",
    "#                 y = chunk_sum.reshape(1,88)\n",
    "#             else:\n",
    "#                 y = np.concatenate((y,chunk_sum.reshape(1,88)),axis=0)\n",
    "#     if(i%10==0):\n",
    "#         print(i)"
   ]
  },
  {
   "cell_type": "code",
   "execution_count": 68,
   "metadata": {
    "scrolled": true
   },
   "outputs": [
    {
     "name": "stdout",
     "output_type": "stream",
     "text": [
      "0\n",
      "10\n",
      "20\n",
      "30\n",
      "42\n",
      "52\n",
      "62\n",
      "72\n",
      "82\n",
      "92\n",
      "103\n",
      "113\n",
      "123\n",
      "133\n",
      "143\n",
      "153\n",
      "163\n",
      "173\n",
      "183\n",
      "193\n",
      "203\n",
      "213\n"
     ]
    }
   ],
   "source": [
    "label_paths = os.listdir(\"labels2\")\n",
    "count=0\n",
    "cc=0\n",
    "X=[]\n",
    "img_paths = os.listdir(\"cqts2\")\n",
    "for i in range(len(img_paths)):\n",
    "#     img = cv2.imread(\"cqts2/\"+img_paths[i],0)\n",
    "#     suff = img[4:235,35:-4]\n",
    "    try:\n",
    "        img = cv2.imread(\"cqts2/\"+img_paths[i],0)\n",
    "        suff = img[4:235,35:-4]\n",
    "        if(suff.shape==(231,371)):\n",
    "            count+=1\n",
    "            try:\n",
    "                lbl = np.load(\"labels2/\"+img_paths[i][:-8]+'.npy')\n",
    "            except:\n",
    "                lbl=np.load(\"labels2/\"+img_paths[i][:-4]+'.npy')\n",
    "            lbl2 = lbl[:,:-4]\n",
    "            for j in range(lbl2.shape[1]//7):\n",
    "                chunk_sum = np.sum(lbl2[:,j*7:(j+1)*7],axis=1)\n",
    "                for k in range(len(chunk_sum)):\n",
    "                    if(chunk_sum[k]>4):\n",
    "                        chunk_sum[k]=1\n",
    "                    else:\n",
    "                        chunk_sum[k]=0\n",
    "                if(i==0 and j==0):\n",
    "                    y = chunk_sum.reshape(1,88)\n",
    "                else:\n",
    "                    y = np.concatenate((y,chunk_sum.reshape(1,88)),axis=0)\n",
    "            for j in range(suff.shape[1]//7):\n",
    "                suff2 = suff[:,j*7:(j+1)*7]\n",
    "                suff2 = suff2.reshape(7,231,1)\n",
    "                X.append(suff2)\n",
    "        if(cc%10==0):\n",
    "            print(i)\n",
    "        cc+=1\n",
    "    except:\n",
    "        pass"
   ]
  },
  {
   "cell_type": "code",
   "execution_count": 69,
   "metadata": {
    "scrolled": true
   },
   "outputs": [
    {
     "data": {
      "text/plain": [
       "(11236, 7, 231, 1)"
      ]
     },
     "execution_count": 69,
     "metadata": {},
     "output_type": "execute_result"
    }
   ],
   "source": [
    "X=np.array(X)\n",
    "X.shape"
   ]
  },
  {
   "cell_type": "code",
   "execution_count": 73,
   "metadata": {},
   "outputs": [
    {
     "data": {
      "text/plain": [
       "218"
      ]
     },
     "execution_count": 73,
     "metadata": {},
     "output_type": "execute_result"
    }
   ],
   "source": [
    "# label_paths[i]\n",
    "i"
   ]
  },
  {
   "cell_type": "code",
   "execution_count": 74,
   "metadata": {},
   "outputs": [
    {
     "data": {
      "text/plain": [
       "215"
      ]
     },
     "execution_count": 74,
     "metadata": {},
     "output_type": "execute_result"
    }
   ],
   "source": [
    "count"
   ]
  },
  {
   "cell_type": "code",
   "execution_count": 70,
   "metadata": {
    "scrolled": false
   },
   "outputs": [],
   "source": [
    "y.shape\n",
    "y2=y[:,27:70]"
   ]
  },
  {
   "cell_type": "code",
   "execution_count": 71,
   "metadata": {},
   "outputs": [
    {
     "data": {
      "text/plain": [
       "(11236, 43)"
      ]
     },
     "execution_count": 71,
     "metadata": {},
     "output_type": "execute_result"
    }
   ],
   "source": [
    "y2.shape"
   ]
  },
  {
   "cell_type": "code",
   "execution_count": 72,
   "metadata": {},
   "outputs": [],
   "source": [
    "# np.save(\"y_successive.npy\",y)"
   ]
  },
  {
   "cell_type": "code",
   "execution_count": 73,
   "metadata": {},
   "outputs": [
    {
     "data": {
      "text/plain": [
       "218"
      ]
     },
     "execution_count": 73,
     "metadata": {},
     "output_type": "execute_result"
    }
   ],
   "source": [
    "len(img_paths)"
   ]
  },
  {
   "cell_type": "code",
   "execution_count": 74,
   "metadata": {},
   "outputs": [
    {
     "data": {
      "text/plain": [
       "(88, 375)"
      ]
     },
     "execution_count": 74,
     "metadata": {},
     "output_type": "execute_result"
    }
   ],
   "source": [
    "lbl.shape"
   ]
  },
  {
   "cell_type": "code",
   "execution_count": 75,
   "metadata": {},
   "outputs": [],
   "source": [
    "# X = X.reshape(X.shape[0],X.shape[1],X.shape[2],1)\n",
    "# X.shape"
   ]
  },
  {
   "cell_type": "code",
   "execution_count": 76,
   "metadata": {},
   "outputs": [],
   "source": [
    "y2 = y2.astype(int)\n",
    "y=y.astype(int)"
   ]
  },
  {
   "cell_type": "code",
   "execution_count": 77,
   "metadata": {},
   "outputs": [],
   "source": [
    "y_ = y*100"
   ]
  },
  {
   "cell_type": "code",
   "execution_count": 78,
   "metadata": {},
   "outputs": [],
   "source": [
    "# X_train,X_test,y_train,y_test = train_test_split(X,y,test_size=0.1)"
   ]
  },
  {
   "cell_type": "code",
   "execution_count": 79,
   "metadata": {},
   "outputs": [],
   "source": [
    "class LossHistory(Callback):\n",
    "    def on_train_begin(self, logs={}):\n",
    "        self.matthews_correlation = []\n",
    "\n",
    "    def on_epoch_end(self, batch, logs={}):\n",
    "        self.matthews_correlation.append(logs.get('matthews_correlation'))\n",
    "\n",
    "def matthews_correlation(y_true, y_pred):\n",
    "    y_pred_pos = K.round(K.clip(y_pred, 0, 1))\n",
    "    y_pred_neg = 1 - y_pred_pos\n",
    "\n",
    "    y_pos = K.round(K.clip(y_true, 0, 1))\n",
    "    y_neg = 1 - y_pos\n",
    "\n",
    "    tp = K.sum(y_pos * y_pred_pos)\n",
    "    tn = K.sum(y_neg * y_pred_neg)\n",
    "\n",
    "    fp = K.sum(y_neg * y_pred_pos)\n",
    "    fn = K.sum(y_pos * y_pred_neg)\n",
    "\n",
    "    numerator = (tp * tn - fp * fn)\n",
    "    denominator = K.sqrt((tp + fp) * (tp + fn) * (tn + fp) * (tn + fn))\n",
    "\n",
    "    return numerator / (denominator + K.epsilon())\n",
    "\n",
    "def precision(y_true, y_pred):\n",
    "    y_pred_pos = K.round(K.clip(y_pred, 0, 1))\n",
    "    y_pred_neg = 1 - y_pred_pos\n",
    "\n",
    "    y_pos = K.round(K.clip(y_true, 0, 1))\n",
    "    y_neg = 1 - y_pos\n",
    "\n",
    "    tp = K.sum(y_pos * y_pred_pos)\n",
    "    #tn = K.sum(y_neg * y_pred_neg)\n",
    "\n",
    "    fp = K.sum(y_neg * y_pred_pos)\n",
    "    #fn = K.sum(y_pos * y_pred_neg)\n",
    "\n",
    "    numerator = (tp)\n",
    "    denominator = (tp + fp)\n",
    "\n",
    "    return numerator / denominator\n",
    "\n",
    "def recall(y_true, y_pred):\n",
    "    y_pred_pos = K.round(K.clip(y_pred, 0, 1))\n",
    "    y_pred_neg = 1 - y_pred_pos\n",
    "\n",
    "    y_pos = K.round(K.clip(y_true, 0, 1))\n",
    "    y_neg = 1 - y_pos\n",
    "\n",
    "    tp = K.sum(y_pos * y_pred_pos)\n",
    "    #tn = K.sum(y_neg * y_pred_neg)\n",
    "\n",
    "    #fp = K.sum(y_neg * y_pred_pos)\n",
    "    fn = K.sum(y_pos * y_pred_neg)\n",
    "\n",
    "    numerator = (tp)\n",
    "    denominator = (tp + fn)\n",
    "\n",
    "    return numerator / denominator\n",
    "\n",
    "def f1score(y_true, y_pred):\n",
    "    y_pred_pos = K.round(K.clip(y_pred, 0, 1))\n",
    "    y_pred_neg = 1 - y_pred_pos\n",
    "\n",
    "    y_pos = K.round(K.clip(y_true, 0, 1))\n",
    "    y_neg = 1 - y_pos\n",
    "\n",
    "    tp = K.sum(y_pos * y_pred_pos)\n",
    "    #tn = K.sum(y_neg * y_pred_neg)\n",
    "\n",
    "    fp = K.sum(y_neg * y_pred_pos)\n",
    "    fn = K.sum(y_pos * y_pred_neg)\n",
    "\n",
    "    numerator = (tp)\n",
    "    denominator1 = (tp + fp)\n",
    "    denominator2 = (tp + fn)\n",
    "\n",
    "    preci =  numerator / denominator1\n",
    "    rec = numerator / denominator2\n",
    "    \n",
    "    f1 = (2*preci*rec)/(preci+rec)\n",
    "    return f1\n",
    "\n",
    "def network():\n",
    "    model = Sequential()\n",
    "    model.add(Conv2D(filters=50,kernel_size=(5,15),input_shape=(7,231,1),activation=\"sigmoid\"))\n",
    "    model.add(MaxPool2D(pool_size=(1,3)))\n",
    "    model.add(Dropout(0.4))\n",
    "    model.add(Conv2D(filters=50,kernel_size=(3,5),activation=\"sigmoid\"))\n",
    "    model.add(MaxPool2D(pool_size=(1,3)))\n",
    "    model.add(Dropout(0.4))\n",
    "    model.add(Flatten())\n",
    "#     model.add(Dense(2000,activation=\"sigmoid\"))\n",
    "#     model.add(Dropout(0.3))\n",
    "    model.add(Dense(1000,activation=\"sigmoid\"))\n",
    "    model.add(Dropout(0.4))\n",
    "    model.add(Dense(200,activation=\"relu\"))\n",
    "#     model.add(Dropout(0.3))\n",
    "    model.add(Dense(43,activation=\"sigmoid\"))\n",
    "    \n",
    "    opt = SGD(lr=0.01,momentum=0.9)\n",
    "#     opt = SGD()\n",
    "#     lossf = sigmoid_cross_entropy_with_logits()\n",
    "#     met = precision()\n",
    "    model.compile(optimizer=opt,loss=\"binary_crossentropy\", metrics=[matthews_correlation,binary_accuracy,mae])\n",
    "#     model.compile(optimizer=\"adam\",loss=\"mean_squared_error\", metrics=[matthews_correlation])\n",
    "    return model"
   ]
  },
  {
   "cell_type": "code",
   "execution_count": 80,
   "metadata": {
    "scrolled": true
   },
   "outputs": [
    {
     "name": "stdout",
     "output_type": "stream",
     "text": [
      "_________________________________________________________________\n",
      "Layer (type)                 Output Shape              Param #   \n",
      "=================================================================\n",
      "conv2d_14 (Conv2D)           (None, 3, 217, 50)        3800      \n",
      "_________________________________________________________________\n",
      "max_pooling2d_14 (MaxPooling (None, 3, 72, 50)         0         \n",
      "_________________________________________________________________\n",
      "dropout_21 (Dropout)         (None, 3, 72, 50)         0         \n",
      "_________________________________________________________________\n",
      "conv2d_15 (Conv2D)           (None, 1, 68, 50)         37550     \n",
      "_________________________________________________________________\n",
      "max_pooling2d_15 (MaxPooling (None, 1, 22, 50)         0         \n",
      "_________________________________________________________________\n",
      "dropout_22 (Dropout)         (None, 1, 22, 50)         0         \n",
      "_________________________________________________________________\n",
      "flatten_7 (Flatten)          (None, 1100)              0         \n",
      "_________________________________________________________________\n",
      "dense_21 (Dense)             (None, 1000)              1101000   \n",
      "_________________________________________________________________\n",
      "dropout_23 (Dropout)         (None, 1000)              0         \n",
      "_________________________________________________________________\n",
      "dense_22 (Dense)             (None, 200)               200200    \n",
      "_________________________________________________________________\n",
      "dense_23 (Dense)             (None, 43)                8643      \n",
      "=================================================================\n",
      "Total params: 1,351,193\n",
      "Trainable params: 1,351,193\n",
      "Non-trainable params: 0\n",
      "_________________________________________________________________\n"
     ]
    }
   ],
   "source": [
    "model = network()\n",
    "model.summary()"
   ]
  },
  {
   "cell_type": "code",
   "execution_count": 81,
   "metadata": {},
   "outputs": [],
   "source": [
    "X_train,X_test,y_train,y_test = train_test_split(X,y2,test_size=0.1)"
   ]
  },
  {
   "cell_type": "code",
   "execution_count": 82,
   "metadata": {
    "scrolled": false
   },
   "outputs": [
    {
     "name": "stdout",
     "output_type": "stream",
     "text": [
      "Train on 10112 samples, validate on 1124 samples\n",
      "Epoch 1/1\n",
      "10112/10112 [==============================] - 6s 604us/step - loss: 0.2444 - matthews_correlation: 0.0065 - binary_accuracy: 0.9145 - mean_absolute_error: 0.1420 - val_loss: 0.1713 - val_matthews_correlation: 0.0000e+00 - val_binary_accuracy: 0.9520 - val_mean_absolute_error: 0.0875\n",
      "precision 0.14270462633451958\n",
      "recall 0.3455407152089617\n",
      "0 0.20198967384460395\n",
      "Train on 10112 samples, validate on 1124 samples\n",
      "Epoch 1/1\n",
      "10112/10112 [==============================] - 5s 489us/step - loss: 0.1770 - matthews_correlation: 5.3691e-04 - binary_accuracy: 0.9514 - mean_absolute_error: 0.0889 - val_loss: 0.1708 - val_matthews_correlation: 0.0000e+00 - val_binary_accuracy: 0.9520 - val_mean_absolute_error: 0.0882\n",
      "precision 0.14288256227758006\n",
      "recall 0.3459715639810427\n",
      "1 0.202241531293288\n",
      "Train on 10112 samples, validate on 1124 samples\n",
      "Epoch 1/1\n",
      "10112/10112 [==============================] - 5s 529us/step - loss: 0.1765 - matthews_correlation: 0.0000e+00 - binary_accuracy: 0.9514 - mean_absolute_error: 0.0888 - val_loss: 0.1706 - val_matthews_correlation: 0.0000e+00 - val_binary_accuracy: 0.9520 - val_mean_absolute_error: 0.0882\n",
      "precision 0.14359430604982207\n",
      "recall 0.34769495906936665\n",
      "2 0.20324896108802418\n",
      "Train on 10112 samples, validate on 1124 samples\n",
      "Epoch 1/1\n",
      "10112/10112 [==============================] - 5s 496us/step - loss: 0.1764 - matthews_correlation: -3.4262e-05 - binary_accuracy: 0.9514 - mean_absolute_error: 0.0890 - val_loss: 0.1706 - val_matthews_correlation: 0.0000e+00 - val_binary_accuracy: 0.9520 - val_mean_absolute_error: 0.0878\n",
      "precision 0.14306049822064057\n",
      "recall 0.34640241275312367\n",
      "3 0.20249338874197204\n",
      "Train on 10112 samples, validate on 1124 samples\n",
      "Epoch 1/1\n",
      "10112/10112 [==============================] - 5s 502us/step - loss: 0.1759 - matthews_correlation: -3.5358e-05 - binary_accuracy: 0.9514 - mean_absolute_error: 0.0886 - val_loss: 0.1705 - val_matthews_correlation: 0.0000e+00 - val_binary_accuracy: 0.9520 - val_mean_absolute_error: 0.0886\n",
      "precision 0.14288256227758006\n",
      "recall 0.3459715639810427\n",
      "4 0.202241531293288\n"
     ]
    }
   ],
   "source": [
    "history = LossHistory()\n",
    "for i in range(5):\n",
    "    model.fit(X_train,y_train,validation_data=(X_test,y_test),epochs=1,batch_size=100,shuffle=True,callbacks=[history])\n",
    "    v_pred = model.predict(X_test)\n",
    "    for j in range(v_pred.shape[0]):\n",
    "        ind= v_pred[j].argsort()[-5:][::-1]\n",
    "#         print(v_pred[])\n",
    "        v_pred[j]=np.zeros((v_pred[j].shape[0]))\n",
    "        v_pred[j][ind]=1\n",
    "#     print(v_pred[0])\n",
    "#     break\n",
    "#     arr.argsort()[-3:][::-1]\n",
    "# Out[3]: array([4, 3, 1])\n",
    "#     v_pred1 = np.where(v_pred>.2,1,0)\n",
    "#     print(y_test.flatten().shape,v_pred1.flatten().shape)\n",
    "    print('precision',precision_score(y_test.flatten(),v_pred.flatten()))\n",
    "    print('recall',recall_score(y_test.flatten(),v_pred.flatten()))\n",
    "    print (i,f1_score(y_test.flatten(),v_pred.flatten()))    "
   ]
  },
  {
   "cell_type": "code",
   "execution_count": 51,
   "metadata": {},
   "outputs": [],
   "source": [
    "for j in range(v_pred.shape[0]):\n",
    "    ind= v_pred[j].argsort()[-5:][::-1]\n",
    "#     print(j)\n",
    "#     print(v_pred[j].shape)\n",
    "    v_pred[j]=np.zeros((v_pred[j].shape[0]))\n",
    "    v_pred[j][ind]=1"
   ]
  },
  {
   "cell_type": "code",
   "execution_count": 63,
   "metadata": {},
   "outputs": [
    {
     "data": {
      "text/plain": [
       "array([0., 0., 0., 0., 0., 0., 0., 0., 0., 0., 0., 0., 0., 0., 0., 0., 0.,\n",
       "       0., 0., 0., 0., 0., 0., 0., 0., 0., 0., 0., 0., 0., 0., 0., 0., 0.,\n",
       "       0., 0., 1., 0., 0., 0., 0., 0., 0., 0., 0., 0., 0., 0., 1., 0., 1.,\n",
       "       0., 0., 1., 0., 1., 0., 0., 0., 0., 0., 0., 0., 0., 0., 0., 0., 0.,\n",
       "       0., 0., 0., 0., 0., 0., 0., 0., 0., 0., 0., 0., 0., 0., 0., 0., 0.,\n",
       "       0., 0., 0.], dtype=float32)"
      ]
     },
     "execution_count": 63,
     "metadata": {},
     "output_type": "execute_result"
    }
   ],
   "source": [
    "v_pred[45]\n",
    "# ind"
   ]
  },
  {
   "cell_type": "code",
   "execution_count": 36,
   "metadata": {
    "scrolled": true
   },
   "outputs": [
    {
     "data": {
      "text/plain": [
       "array([0, 0, 0, 0, 0, 0, 0, 0, 0, 0, 0, 0, 0, 0, 0, 0, 0, 0, 0, 0, 0, 0,\n",
       "       0, 0, 0, 0, 0, 0, 0, 0, 0, 0, 0, 0, 0, 0, 1, 0, 0, 0, 0, 0, 0, 0,\n",
       "       0, 0, 0, 0, 1, 0, 0, 0, 0, 1, 0, 1, 0, 0, 0, 0, 0, 0, 0, 0, 0, 0,\n",
       "       0, 0, 0, 0, 0, 0, 0, 0, 0, 0, 0, 0, 0, 0, 0, 0, 0, 0, 0, 0, 0, 0])"
      ]
     },
     "execution_count": 36,
     "metadata": {},
     "output_type": "execute_result"
    }
   ],
   "source": [
    "np.where(v_pred[7]>0.26,1,0)"
   ]
  },
  {
   "cell_type": "code",
   "execution_count": 53,
   "metadata": {},
   "outputs": [
    {
     "data": {
      "text/plain": [
       "array([0, 0, 0, 0, 0, 0, 0, 0, 0, 0, 0, 0, 0, 0, 0, 0, 0, 0, 0, 0, 0, 0,\n",
       "       0, 0, 0, 0, 0, 0, 0, 0, 0, 1, 0, 0, 0, 0, 0, 0, 0, 0, 0, 0, 0, 0,\n",
       "       0, 0, 0, 0, 0, 0, 0, 0, 0, 1, 1, 0, 0, 0, 0, 0, 0, 0, 0, 0, 0, 0,\n",
       "       0, 0, 0, 0, 0, 0, 0, 0, 0, 0, 0, 0, 0, 0, 0, 0, 0, 0, 0, 0, 0, 0])"
      ]
     },
     "execution_count": 53,
     "metadata": {},
     "output_type": "execute_result"
    }
   ],
   "source": [
    "y_test[0]"
   ]
  },
  {
   "cell_type": "code",
   "execution_count": 119,
   "metadata": {},
   "outputs": [
    {
     "data": {
      "text/plain": [
       "array([0.30129522, 0.29945564, 0.29238912, ..., 0.31104252, 0.3162166 ,\n",
       "       0.30906853], dtype=float32)"
      ]
     },
     "execution_count": 119,
     "metadata": {},
     "output_type": "execute_result"
    }
   ],
   "source": [
    "np.max(v_pred,axis=1)"
   ]
  },
  {
   "cell_type": "code",
   "execution_count": 87,
   "metadata": {},
   "outputs": [],
   "source": [
    "y_pred = model.predict(X_test)"
   ]
  },
  {
   "cell_type": "code",
   "execution_count": 102,
   "metadata": {},
   "outputs": [
    {
     "data": {
      "text/plain": [
       "(array([36, 48, 50, 53, 55], dtype=int64),)"
      ]
     },
     "execution_count": 102,
     "metadata": {},
     "output_type": "execute_result"
    }
   ],
   "source": [
    "np.where(y_pred[45]>=11.0/88)"
   ]
  },
  {
   "cell_type": "code",
   "execution_count": 103,
   "metadata": {},
   "outputs": [
    {
     "data": {
      "text/plain": [
       "array([44, 46, 50, 55], dtype=int64)"
      ]
     },
     "execution_count": 103,
     "metadata": {},
     "output_type": "execute_result"
    }
   ],
   "source": [
    "np.where(y_test[45]==1)[0]"
   ]
  },
  {
   "cell_type": "code",
   "execution_count": null,
   "metadata": {},
   "outputs": [],
   "source": []
  }
 ],
 "metadata": {
  "kernelspec": {
   "display_name": "Python 3",
   "language": "python",
   "name": "python3"
  },
  "language_info": {
   "codemirror_mode": {
    "name": "ipython",
    "version": 3
   },
   "file_extension": ".py",
   "mimetype": "text/x-python",
   "name": "python",
   "nbconvert_exporter": "python",
   "pygments_lexer": "ipython3",
   "version": "3.6.8"
  }
 },
 "nbformat": 4,
 "nbformat_minor": 2
}
